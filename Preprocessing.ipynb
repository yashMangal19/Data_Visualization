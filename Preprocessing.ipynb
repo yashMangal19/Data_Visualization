{
 "cells": [
  {
   "cell_type": "markdown",
   "id": "a2eb8d0c-f6e2-472a-a8fa-c9d7df355eea",
   "metadata": {
    "tags": []
   },
   "source": [
    "<img src=\"images/sensor_position.png\" alt=\"drawing\" width=\"400\"/>\n",
    "\n",
    "<a href=\"https://www.nature.com/articles/s41597-022-01643-5/tables/3\">Table 2</a> **Overview of the devices used to collect our dataset**\n",
    "\n",
    "<a href=\"https://www.nature.com/articles/s41597-022-01643-5/tables/5\">Table 3</a> **Description of the content of the folders**\n"
   ]
  },
  {
   "cell_type": "markdown",
   "id": "ecb01c33-8a97-46ab-a293-869a112f2c11",
   "metadata": {},
   "source": [
    "## Missing Data"
   ]
  },
  {
   "cell_type": "markdown",
   "id": "ba7c505e-e3ab-4b27-b95f-960337ebc550",
   "metadata": {},
   "source": [
    "- The MUSE S device data of participant P02\n",
    "- VO2 data of P03 and P12(Cycling Condition), P16(Running Condition) (indirect calorimeter VO2 sensor)"
   ]
  },
  {
   "cell_type": "markdown",
   "id": "719f19b4-5e17-4b76-9960-df131750eb3c",
   "metadata": {},
   "source": [
    "## Prepration"
   ]
  },
  {
   "cell_type": "markdown",
   "id": "ae17cbb3-50a1-4951-8362-5c30a20e96ae",
   "metadata": {
    "tags": []
   },
   "source": [
    "<a href=\"https://python-heart-rate-analysis-toolkit.readthedocs.io/en/latest/\">HeartPy</a> to extract heart rate data from **PPG**(<a href=\"https://chat.openai.com/share/6c61de02-a39c-4d1f-8472-636666b3be25\">photoplethysmography</a>) or **ECG**<a href=\"https://chat.openai.com/share/b11a1eb5-e6c6-4a18-bfe1-ed4951b361a2\">(electrocardiography)</a> sensors\n",
    "\n",
    "#### Heart Rates Already There\n",
    "- **E4** - Average heart rate extracted from the BVP(PPG Data) signal. *(Recheck using HeartPy)*\n",
    "- **VO2** - Heart rate measured using the Wahoo Tickr chest strap.\n",
    "- **ZEPHYR** - Heart rate measured from the ECG sensor. *(Recheck using HeartPy)*\n",
    "- **Fitbit Sense Watch**\n",
    "- **Apple Watch Series 6**\n",
    "\n",
    "#### Heart Rated \n",
    "- **EARBUDS** - ppg.csv\n",
    "\n"
   ]
  },
  {
   "cell_type": "code",
   "execution_count": 1,
   "id": "c9ed3a0e-57f0-484d-a2be-e259dcbdbb58",
   "metadata": {
    "tags": []
   },
   "outputs": [],
   "source": [
    "import pandas as pd\n",
    "import numpy as np\n",
    "from matplotlib import pyplot as plt\n",
    "from sklearn.cluster import KMeans\n",
    "from sklearn.cluster import DBSCAN\n",
    "from sklearn.mixture import GaussianMixture\n",
    "from sklearn.cluster import AgglomerativeClustering\n",
    "from sklearn.cluster import MeanShift\n",
    "from sklearn.cluster import MiniBatchKMeans\n",
    "from sklearn.preprocessing import MinMaxScaler\n",
    "import copy"
   ]
  },
  {
   "cell_type": "markdown",
   "id": "528c8eab-a8fd-4af6-9e66-aee858462787",
   "metadata": {},
   "source": [
    "## Function to see minutes of exercise in dataset from E4 data"
   ]
  },
  {
   "cell_type": "code",
   "execution_count": 2,
   "id": "de8c8bee-a5f2-458b-b037-4e6a37b39a03",
   "metadata": {
    "tags": []
   },
   "outputs": [
    {
     "name": "stdout",
     "output_type": "stream",
     "text": [
      "[[37.22630208]\n",
      " [58.67447917]\n",
      " [59.15442708]\n",
      " [53.28098958]\n",
      " [54.628125  ]\n",
      " [45.33619792]\n",
      " [44.01067708]\n",
      " [40.95729167]\n",
      " [40.14322917]\n",
      " [52.63463542]\n",
      " [72.04140625]\n",
      " [59.28880208]\n",
      " [28.528125  ]\n",
      " [44.52890625]\n",
      " [45.62213542]\n",
      " [63.23046875]\n",
      " [59.82317708]]\n"
     ]
    }
   ],
   "source": [
    "persons = [ 'P' + f\"{num:02}\" for num in range(1,18)]\n",
    "minutes = np.array([])\n",
    "for person in persons:\n",
    "    data = pd.read_csv(f\"dataset/{person}/E4/IBI.csv\")\n",
    "    minutes = np.append(minutes, (data.values[-1][0] - data.values[0][0])/60)\n",
    "print(minutes.reshape(-1,1))"
   ]
  },
  {
   "cell_type": "code",
   "execution_count": 3,
   "id": "306f0c24-1347-4e1a-ad78-abdbfa3ee099",
   "metadata": {
    "tags": []
   },
   "outputs": [
    {
     "data": {
      "text/html": [
       "<div>\n",
       "<style scoped>\n",
       "    .dataframe tbody tr th:only-of-type {\n",
       "        vertical-align: middle;\n",
       "    }\n",
       "\n",
       "    .dataframe tbody tr th {\n",
       "        vertical-align: top;\n",
       "    }\n",
       "\n",
       "    .dataframe thead th {\n",
       "        text-align: right;\n",
       "    }\n",
       "</style>\n",
       "<table border=\"1\" class=\"dataframe\">\n",
       "  <thead>\n",
       "    <tr style=\"text-align: right;\">\n",
       "      <th></th>\n",
       "      <th>Time</th>\n",
       "      <th>PPG_Filtered</th>\n",
       "      <th>PPG_Raw</th>\n",
       "      <th>PPG_Clean</th>\n",
       "      <th>PPG_HR</th>\n",
       "      <th>PPG_Peaks</th>\n",
       "      <th>ACC_X</th>\n",
       "      <th>ACC_Y</th>\n",
       "      <th>ACC_Z</th>\n",
       "      <th>GYRO_X</th>\n",
       "      <th>GYRO_Y</th>\n",
       "      <th>GYRO_Z</th>\n",
       "      <th>ACC</th>\n",
       "      <th>GYRO</th>\n",
       "      <th>User</th>\n",
       "    </tr>\n",
       "  </thead>\n",
       "  <tbody>\n",
       "    <tr>\n",
       "      <th>0</th>\n",
       "      <td>2021-12-03 16:53:50</td>\n",
       "      <td>1512.211419</td>\n",
       "      <td>1512.211419</td>\n",
       "      <td>1202.862166</td>\n",
       "      <td>50.191657</td>\n",
       "      <td>0.010000</td>\n",
       "      <td>983.44139</td>\n",
       "      <td>55.00126</td>\n",
       "      <td>154.38612</td>\n",
       "      <td>-5058.892717</td>\n",
       "      <td>2633.191240</td>\n",
       "      <td>1093.891112</td>\n",
       "      <td>997.133738</td>\n",
       "      <td>18079.076843</td>\n",
       "      <td>P01</td>\n",
       "    </tr>\n",
       "    <tr>\n",
       "      <th>1</th>\n",
       "      <td>2021-12-03 16:53:51</td>\n",
       "      <td>-3619.851591</td>\n",
       "      <td>-3619.851591</td>\n",
       "      <td>702.572941</td>\n",
       "      <td>51.785708</td>\n",
       "      <td>0.010000</td>\n",
       "      <td>983.69515</td>\n",
       "      <td>53.47504</td>\n",
       "      <td>146.38719</td>\n",
       "      <td>5729.185712</td>\n",
       "      <td>989.810939</td>\n",
       "      <td>-830.817819</td>\n",
       "      <td>996.561984</td>\n",
       "      <td>19125.037875</td>\n",
       "      <td>P01</td>\n",
       "    </tr>\n",
       "    <tr>\n",
       "      <th>2</th>\n",
       "      <td>2021-12-03 16:53:52</td>\n",
       "      <td>3767.104190</td>\n",
       "      <td>3767.104190</td>\n",
       "      <td>2743.786537</td>\n",
       "      <td>115.073457</td>\n",
       "      <td>0.010000</td>\n",
       "      <td>985.68375</td>\n",
       "      <td>6.24335</td>\n",
       "      <td>97.75250</td>\n",
       "      <td>-5361.232201</td>\n",
       "      <td>-1670.737601</td>\n",
       "      <td>-1889.783455</td>\n",
       "      <td>993.173313</td>\n",
       "      <td>38627.289177</td>\n",
       "      <td>P01</td>\n",
       "    </tr>\n",
       "    <tr>\n",
       "      <th>3</th>\n",
       "      <td>2021-12-03 16:53:53</td>\n",
       "      <td>-3390.652899</td>\n",
       "      <td>-3390.652899</td>\n",
       "      <td>444.141668</td>\n",
       "      <td>113.499882</td>\n",
       "      <td>0.020000</td>\n",
       "      <td>996.94923</td>\n",
       "      <td>64.51726</td>\n",
       "      <td>122.45079</td>\n",
       "      <td>6607.349405</td>\n",
       "      <td>8930.385702</td>\n",
       "      <td>2821.878407</td>\n",
       "      <td>1011.426257</td>\n",
       "      <td>56979.147750</td>\n",
       "      <td>P01</td>\n",
       "    </tr>\n",
       "    <tr>\n",
       "      <th>4</th>\n",
       "      <td>2021-12-03 16:53:54</td>\n",
       "      <td>3140.449342</td>\n",
       "      <td>3140.449342</td>\n",
       "      <td>1772.273025</td>\n",
       "      <td>68.446946</td>\n",
       "      <td>0.010000</td>\n",
       "      <td>972.89815</td>\n",
       "      <td>8.17522</td>\n",
       "      <td>126.81473</td>\n",
       "      <td>-5899.309046</td>\n",
       "      <td>-9985.703206</td>\n",
       "      <td>402.073468</td>\n",
       "      <td>1040.411775</td>\n",
       "      <td>48782.354970</td>\n",
       "      <td>P01</td>\n",
       "    </tr>\n",
       "    <tr>\n",
       "      <th>...</th>\n",
       "      <td>...</td>\n",
       "      <td>...</td>\n",
       "      <td>...</td>\n",
       "      <td>...</td>\n",
       "      <td>...</td>\n",
       "      <td>...</td>\n",
       "      <td>...</td>\n",
       "      <td>...</td>\n",
       "      <td>...</td>\n",
       "      <td>...</td>\n",
       "      <td>...</td>\n",
       "      <td>...</td>\n",
       "      <td>...</td>\n",
       "      <td>...</td>\n",
       "      <td>...</td>\n",
       "    </tr>\n",
       "    <tr>\n",
       "      <th>2105</th>\n",
       "      <td>2021-12-03 17:28:55</td>\n",
       "      <td>-32.402454</td>\n",
       "      <td>-32.402454</td>\n",
       "      <td>276.226143</td>\n",
       "      <td>103.698463</td>\n",
       "      <td>0.010000</td>\n",
       "      <td>197.46737</td>\n",
       "      <td>921.11464</td>\n",
       "      <td>361.14501</td>\n",
       "      <td>3354.244117</td>\n",
       "      <td>-4266.995231</td>\n",
       "      <td>-3974.249288</td>\n",
       "      <td>1026.601886</td>\n",
       "      <td>20572.578390</td>\n",
       "      <td>P01</td>\n",
       "    </tr>\n",
       "    <tr>\n",
       "      <th>2106</th>\n",
       "      <td>2021-12-03 17:28:56</td>\n",
       "      <td>71.845218</td>\n",
       "      <td>71.845218</td>\n",
       "      <td>249.335908</td>\n",
       "      <td>68.566845</td>\n",
       "      <td>0.010000</td>\n",
       "      <td>243.36011</td>\n",
       "      <td>886.66672</td>\n",
       "      <td>444.67841</td>\n",
       "      <td>-5137.821958</td>\n",
       "      <td>3750.740062</td>\n",
       "      <td>4702.603079</td>\n",
       "      <td>1042.592533</td>\n",
       "      <td>25709.267149</td>\n",
       "      <td>P01</td>\n",
       "    </tr>\n",
       "    <tr>\n",
       "      <th>2107</th>\n",
       "      <td>2021-12-03 17:28:57</td>\n",
       "      <td>-94.990313</td>\n",
       "      <td>-94.990313</td>\n",
       "      <td>91.016310</td>\n",
       "      <td>57.105839</td>\n",
       "      <td>0.010000</td>\n",
       "      <td>225.64144</td>\n",
       "      <td>859.13437</td>\n",
       "      <td>332.75805</td>\n",
       "      <td>6388.845614</td>\n",
       "      <td>-8821.053705</td>\n",
       "      <td>-3361.774132</td>\n",
       "      <td>983.554158</td>\n",
       "      <td>27049.667777</td>\n",
       "      <td>P01</td>\n",
       "    </tr>\n",
       "    <tr>\n",
       "      <th>2108</th>\n",
       "      <td>2021-12-03 17:28:58</td>\n",
       "      <td>143.096626</td>\n",
       "      <td>143.096626</td>\n",
       "      <td>197.511520</td>\n",
       "      <td>52.071161</td>\n",
       "      <td>0.010000</td>\n",
       "      <td>85.26641</td>\n",
       "      <td>958.00683</td>\n",
       "      <td>-13.70060</td>\n",
       "      <td>-6592.686311</td>\n",
       "      <td>7008.402376</td>\n",
       "      <td>1799.344042</td>\n",
       "      <td>974.083044</td>\n",
       "      <td>17079.622551</td>\n",
       "      <td>P01</td>\n",
       "    </tr>\n",
       "    <tr>\n",
       "      <th>2109</th>\n",
       "      <td>2021-12-03 17:28:59</td>\n",
       "      <td>-9.724603</td>\n",
       "      <td>-9.724603</td>\n",
       "      <td>72.084784</td>\n",
       "      <td>44.110689</td>\n",
       "      <td>0.010638</td>\n",
       "      <td>49.10622</td>\n",
       "      <td>997.56045</td>\n",
       "      <td>-71.68598</td>\n",
       "      <td>4475.557977</td>\n",
       "      <td>-1541.180133</td>\n",
       "      <td>-1045.369916</td>\n",
       "      <td>1012.216080</td>\n",
       "      <td>19041.501277</td>\n",
       "      <td>P01</td>\n",
       "    </tr>\n",
       "  </tbody>\n",
       "</table>\n",
       "<p>2110 rows × 15 columns</p>\n",
       "</div>"
      ],
      "text/plain": [
       "                     Time  PPG_Filtered      PPG_Raw    PPG_Clean      PPG_HR  \\\n",
       "0     2021-12-03 16:53:50   1512.211419  1512.211419  1202.862166   50.191657   \n",
       "1     2021-12-03 16:53:51  -3619.851591 -3619.851591   702.572941   51.785708   \n",
       "2     2021-12-03 16:53:52   3767.104190  3767.104190  2743.786537  115.073457   \n",
       "3     2021-12-03 16:53:53  -3390.652899 -3390.652899   444.141668  113.499882   \n",
       "4     2021-12-03 16:53:54   3140.449342  3140.449342  1772.273025   68.446946   \n",
       "...                   ...           ...          ...          ...         ...   \n",
       "2105  2021-12-03 17:28:55    -32.402454   -32.402454   276.226143  103.698463   \n",
       "2106  2021-12-03 17:28:56     71.845218    71.845218   249.335908   68.566845   \n",
       "2107  2021-12-03 17:28:57    -94.990313   -94.990313    91.016310   57.105839   \n",
       "2108  2021-12-03 17:28:58    143.096626   143.096626   197.511520   52.071161   \n",
       "2109  2021-12-03 17:28:59     -9.724603    -9.724603    72.084784   44.110689   \n",
       "\n",
       "      PPG_Peaks      ACC_X      ACC_Y      ACC_Z       GYRO_X       GYRO_Y  \\\n",
       "0      0.010000  983.44139   55.00126  154.38612 -5058.892717  2633.191240   \n",
       "1      0.010000  983.69515   53.47504  146.38719  5729.185712   989.810939   \n",
       "2      0.010000  985.68375    6.24335   97.75250 -5361.232201 -1670.737601   \n",
       "3      0.020000  996.94923   64.51726  122.45079  6607.349405  8930.385702   \n",
       "4      0.010000  972.89815    8.17522  126.81473 -5899.309046 -9985.703206   \n",
       "...         ...        ...        ...        ...          ...          ...   \n",
       "2105   0.010000  197.46737  921.11464  361.14501  3354.244117 -4266.995231   \n",
       "2106   0.010000  243.36011  886.66672  444.67841 -5137.821958  3750.740062   \n",
       "2107   0.010000  225.64144  859.13437  332.75805  6388.845614 -8821.053705   \n",
       "2108   0.010000   85.26641  958.00683  -13.70060 -6592.686311  7008.402376   \n",
       "2109   0.010638   49.10622  997.56045  -71.68598  4475.557977 -1541.180133   \n",
       "\n",
       "           GYRO_Z          ACC          GYRO User  \n",
       "0     1093.891112   997.133738  18079.076843  P01  \n",
       "1     -830.817819   996.561984  19125.037875  P01  \n",
       "2    -1889.783455   993.173313  38627.289177  P01  \n",
       "3     2821.878407  1011.426257  56979.147750  P01  \n",
       "4      402.073468  1040.411775  48782.354970  P01  \n",
       "...           ...          ...           ...  ...  \n",
       "2105 -3974.249288  1026.601886  20572.578390  P01  \n",
       "2106  4702.603079  1042.592533  25709.267149  P01  \n",
       "2107 -3361.774132   983.554158  27049.667777  P01  \n",
       "2108  1799.344042   974.083044  17079.622551  P01  \n",
       "2109 -1045.369916  1012.216080  19041.501277  P01  \n",
       "\n",
       "[2110 rows x 15 columns]"
      ]
     },
     "execution_count": 3,
     "metadata": {},
     "output_type": "execute_result"
    }
   ],
   "source": [
    "df = pd.read_csv(f\"dataset/P01/EARBUDS/P01_EARBUDS_Final.csv\")\n",
    "df"
   ]
  },
  {
   "cell_type": "code",
   "execution_count": 4,
   "id": "325c0b03-9f64-4a60-83af-c3a3721275cc",
   "metadata": {
    "tags": []
   },
   "outputs": [],
   "source": [
    "cols = ['ACC']\n",
    "X = df[cols].values[260:]\n",
    "\n",
    "X = X.reshape(37,50)\n",
    "\n",
    "new_X = np.array([])\n",
    "\n",
    "for x in X:\n",
    "    new_X = np.append(new_X, np.array([np.mean(x), np.std(x)]))\n",
    "\n",
    "\n",
    "X = new_X.reshape(37,2)"
   ]
  },
  {
   "cell_type": "code",
   "execution_count": 5,
   "id": "602da999-b4b1-4d5f-b0e5-04a572638f54",
   "metadata": {},
   "outputs": [
    {
     "data": {
      "text/plain": [
       "array([0, 0, 0, 0, 0, 5, 0, 0, 0, 0, 0, 5, 4, 5, 5, 5, 5, 5, 5, 4, 4, 4,\n",
       "       4, 4, 4, 2, 3, 3, 2, 2, 4, 4, 2, 1, 1, 1, 3], dtype=int32)"
      ]
     },
     "execution_count": 5,
     "metadata": {},
     "output_type": "execute_result"
    }
   ],
   "source": [
    "kmeans = KMeans(n_clusters=6, random_state=0, n_init=\"auto\").fit(X)\n",
    "kmeans.labels_"
   ]
  },
  {
   "cell_type": "code",
   "execution_count": 6,
   "id": "e1fb51bc-5210-48a3-bd02-2fee186b3d1d",
   "metadata": {
    "tags": []
   },
   "outputs": [
    {
     "data": {
      "text/plain": [
       "array([ 0,  0,  0,  0,  0,  0,  0,  0,  0,  0,  0,  0,  0,  0,  0,  0,  0,\n",
       "        0,  0,  0,  0,  0,  0,  0,  0,  0, -1, -1,  0,  0,  0,  0,  0, -1,\n",
       "       -1, -1, -1])"
      ]
     },
     "execution_count": 6,
     "metadata": {},
     "output_type": "execute_result"
    }
   ],
   "source": [
    "clustering = DBSCAN(eps=6, min_samples=5).fit(X)\n",
    "clustering.labels_"
   ]
  },
  {
   "cell_type": "code",
   "execution_count": 7,
   "id": "a6033533-8a62-4fc3-884b-f386dd786cee",
   "metadata": {
    "tags": []
   },
   "outputs": [
    {
     "data": {
      "text/plain": [
       "array([0, 0, 0, 0, 0, 2, 0, 0, 0, 0, 0, 0, 2, 2, 2, 0, 0, 0, 2, 2, 2, 2,\n",
       "       2, 2, 2, 2, 1, 1, 2, 2, 2, 2, 2, 1, 1, 1, 1])"
      ]
     },
     "execution_count": 7,
     "metadata": {},
     "output_type": "execute_result"
    }
   ],
   "source": [
    "gmm = GaussianMixture(n_components=3, random_state=2).fit(X)\n",
    "cluster_labels = gmm.predict(X)\n",
    "cluster_labels"
   ]
  },
  {
   "cell_type": "code",
   "execution_count": 8,
   "id": "1353dfb7-753f-48c7-91b0-314255b0a212",
   "metadata": {
    "tags": []
   },
   "outputs": [
    {
     "data": {
      "text/plain": [
       "array([1, 1, 1, 1, 1, 1, 1, 1, 1, 1, 1, 1, 2, 1, 1, 1, 1, 1, 1, 2, 2, 2,\n",
       "       2, 2, 2, 2, 0, 0, 2, 2, 2, 2, 2, 0, 0, 0, 0])"
      ]
     },
     "execution_count": 8,
     "metadata": {},
     "output_type": "execute_result"
    }
   ],
   "source": [
    "clustering = AgglomerativeClustering(n_clusters = 3).fit(X)\n",
    "clustering.labels_"
   ]
  },
  {
   "cell_type": "code",
   "execution_count": 9,
   "id": "93125858-6a22-4af7-a8f6-e7c5be2faa44",
   "metadata": {
    "tags": []
   },
   "outputs": [
    {
     "data": {
      "text/html": [
       "<div>\n",
       "<style scoped>\n",
       "    .dataframe tbody tr th:only-of-type {\n",
       "        vertical-align: middle;\n",
       "    }\n",
       "\n",
       "    .dataframe tbody tr th {\n",
       "        vertical-align: top;\n",
       "    }\n",
       "\n",
       "    .dataframe thead th {\n",
       "        text-align: right;\n",
       "    }\n",
       "</style>\n",
       "<table border=\"1\" class=\"dataframe\">\n",
       "  <thead>\n",
       "    <tr style=\"text-align: right;\">\n",
       "      <th></th>\n",
       "      <th>ax</th>\n",
       "      <th>ay</th>\n",
       "      <th>az</th>\n",
       "    </tr>\n",
       "  </thead>\n",
       "  <tbody>\n",
       "    <tr>\n",
       "      <th>0</th>\n",
       "      <td>16116</td>\n",
       "      <td>972</td>\n",
       "      <td>2034</td>\n",
       "    </tr>\n",
       "    <tr>\n",
       "      <th>1</th>\n",
       "      <td>16048</td>\n",
       "      <td>880</td>\n",
       "      <td>1987</td>\n",
       "    </tr>\n",
       "    <tr>\n",
       "      <th>2</th>\n",
       "      <td>16119</td>\n",
       "      <td>880</td>\n",
       "      <td>1975</td>\n",
       "    </tr>\n",
       "    <tr>\n",
       "      <th>3</th>\n",
       "      <td>16336</td>\n",
       "      <td>941</td>\n",
       "      <td>2012</td>\n",
       "    </tr>\n",
       "    <tr>\n",
       "      <th>4</th>\n",
       "      <td>16389</td>\n",
       "      <td>1016</td>\n",
       "      <td>2050</td>\n",
       "    </tr>\n",
       "    <tr>\n",
       "      <th>...</th>\n",
       "      <td>...</td>\n",
       "      <td>...</td>\n",
       "      <td>...</td>\n",
       "    </tr>\n",
       "    <tr>\n",
       "      <th>220238</th>\n",
       "      <td>-1641</td>\n",
       "      <td>6444</td>\n",
       "      <td>-14806</td>\n",
       "    </tr>\n",
       "    <tr>\n",
       "      <th>220239</th>\n",
       "      <td>-1657</td>\n",
       "      <td>6441</td>\n",
       "      <td>-14758</td>\n",
       "    </tr>\n",
       "    <tr>\n",
       "      <th>220240</th>\n",
       "      <td>-1663</td>\n",
       "      <td>6440</td>\n",
       "      <td>-14756</td>\n",
       "    </tr>\n",
       "    <tr>\n",
       "      <th>220241</th>\n",
       "      <td>-1671</td>\n",
       "      <td>6473</td>\n",
       "      <td>-14786</td>\n",
       "    </tr>\n",
       "    <tr>\n",
       "      <th>220242</th>\n",
       "      <td>-1682</td>\n",
       "      <td>6476</td>\n",
       "      <td>-14840</td>\n",
       "    </tr>\n",
       "  </tbody>\n",
       "</table>\n",
       "<p>220243 rows × 3 columns</p>\n",
       "</div>"
      ],
      "text/plain": [
       "           ax    ay     az\n",
       "0       16116   972   2034\n",
       "1       16048   880   1987\n",
       "2       16119   880   1975\n",
       "3       16336   941   2012\n",
       "4       16389  1016   2050\n",
       "...       ...   ...    ...\n",
       "220238  -1641  6444 -14806\n",
       "220239  -1657  6441 -14758\n",
       "220240  -1663  6440 -14756\n",
       "220241  -1671  6473 -14786\n",
       "220242  -1682  6476 -14840\n",
       "\n",
       "[220243 rows x 3 columns]"
      ]
     },
     "execution_count": 9,
     "metadata": {},
     "output_type": "execute_result"
    }
   ],
   "source": [
    "df = pd.read_csv(f\"dataset/P01/EARBUDS/P01-imu-left.csv\", low_memory = False)\n",
    "df = df[[\"ax\",\"ay\",\"az\"]]\n",
    "df"
   ]
  },
  {
   "cell_type": "code",
   "execution_count": 10,
   "id": "16c65fa2-826b-4674-8065-d1d800f533b2",
   "metadata": {
    "tags": []
   },
   "outputs": [],
   "source": [
    "X = abs(df['ax'].values[25243:]) + abs(df['ay'].values[25243:]) + abs(df['az'].values[25243:])\n",
    "X = X.reshape(390,500)\n",
    "\n",
    "new_X = np.array([])\n",
    "\n",
    "for x in X:\n",
    "    new_X = np.append(new_X, [np.std(x)**0.25])\n",
    "\n",
    "\n",
    "X = new_X.reshape(390,1)"
   ]
  },
  {
   "cell_type": "code",
   "execution_count": 11,
   "id": "0a6ee966-0e39-45bf-81d2-5cc101182198",
   "metadata": {
    "tags": []
   },
   "outputs": [
    {
     "data": {
      "text/plain": [
       "array([2, 2, 2, 2, 2, 2, 2, 2, 2, 2, 2, 2, 2, 2, 2, 2, 2, 2, 2, 2, 2, 2,\n",
       "       0, 2, 2, 2, 2, 2, 2, 2, 2, 2, 2, 2, 2, 2, 2, 2, 2, 2, 2, 2, 2, 2,\n",
       "       0, 0, 2, 2, 0, 2, 2, 2, 2, 2, 2, 0, 0, 0, 2, 2, 2, 0, 2, 2, 2, 0,\n",
       "       2, 2, 2, 0, 2, 2, 2, 2, 2, 2, 2, 2, 2, 2, 0, 2, 2, 2, 2, 2, 2, 2,\n",
       "       2, 2, 2, 0, 0, 2, 2, 0, 2, 2, 2, 0, 2, 2, 0, 2, 2, 2, 2, 0, 2, 2,\n",
       "       2, 2, 2, 0, 2, 2, 2, 2, 0, 0, 0, 0, 0, 0, 0, 0, 0, 0, 0, 0, 0, 0,\n",
       "       0, 0, 0, 0, 0, 0, 0, 0, 0, 0, 0, 0, 0, 0, 0, 0, 0, 0, 0, 0, 0, 0,\n",
       "       0, 0, 0, 0, 0, 0, 0, 0, 0, 0, 0, 0, 0, 0, 0, 0, 0, 0, 0, 0, 0, 0,\n",
       "       0, 0, 0, 0, 0, 0, 0, 0, 0, 0, 0, 0, 0, 0, 0, 0, 0, 0, 0, 0, 0, 0,\n",
       "       0, 0, 0, 0, 0, 0, 0, 0, 0, 0, 0, 0, 0, 0, 0, 0, 0, 0, 0, 0, 0, 0,\n",
       "       0, 0, 0, 0, 0, 0, 0, 0, 0, 0, 0, 0, 0, 0, 0, 0, 0, 0, 0, 0, 0, 0,\n",
       "       0, 0, 0, 0, 0, 0, 0, 0, 2, 2, 0, 1, 0, 0, 0, 0, 1, 1, 1, 1, 1, 1,\n",
       "       1, 1, 1, 1, 1, 1, 1, 1, 1, 1, 1, 1, 1, 1, 1, 1, 1, 1, 1, 1, 1, 1,\n",
       "       1, 1, 1, 1, 1, 1, 1, 1, 1, 1, 1, 1, 1, 1, 1, 1, 1, 1, 1, 1, 1, 1,\n",
       "       1, 1, 1, 1, 1, 1, 1, 1, 1, 1, 0, 1, 1, 0, 0, 0, 0, 1, 0, 0, 0, 1,\n",
       "       1, 1, 1, 1, 1, 1, 1, 1, 1, 1, 1, 1, 1, 1, 1, 1, 1, 1, 1, 1, 1, 1,\n",
       "       1, 1, 1, 1, 1, 1, 1, 1, 1, 1, 1, 1, 1, 1, 1, 1, 1, 1, 1, 1, 1, 1,\n",
       "       1, 1, 1, 1, 1, 1, 1, 1, 1, 1, 1, 1, 0, 0, 1, 0])"
      ]
     },
     "execution_count": 11,
     "metadata": {},
     "output_type": "execute_result"
    }
   ],
   "source": [
    "clustering = AgglomerativeClustering(n_clusters = 3 ).fit(X)\n",
    "clustering.labels_"
   ]
  },
  {
   "cell_type": "code",
   "execution_count": 12,
   "id": "5f8d39cd-7be8-4936-8b0f-77b8443edacd",
   "metadata": {
    "tags": []
   },
   "outputs": [
    {
     "data": {
      "text/html": [
       "<div>\n",
       "<style scoped>\n",
       "    .dataframe tbody tr th:only-of-type {\n",
       "        vertical-align: middle;\n",
       "    }\n",
       "\n",
       "    .dataframe tbody tr th {\n",
       "        vertical-align: top;\n",
       "    }\n",
       "\n",
       "    .dataframe thead th {\n",
       "        text-align: right;\n",
       "    }\n",
       "</style>\n",
       "<table border=\"1\" class=\"dataframe\">\n",
       "  <thead>\n",
       "    <tr style=\"text-align: right;\">\n",
       "      <th></th>\n",
       "      <th>ax</th>\n",
       "      <th>ay</th>\n",
       "      <th>az</th>\n",
       "    </tr>\n",
       "  </thead>\n",
       "  <tbody>\n",
       "    <tr>\n",
       "      <th>0</th>\n",
       "      <td>-4833</td>\n",
       "      <td>14299</td>\n",
       "      <td>-5882</td>\n",
       "    </tr>\n",
       "    <tr>\n",
       "      <th>1</th>\n",
       "      <td>-4834</td>\n",
       "      <td>14318</td>\n",
       "      <td>-5901</td>\n",
       "    </tr>\n",
       "    <tr>\n",
       "      <th>2</th>\n",
       "      <td>-4827</td>\n",
       "      <td>14301</td>\n",
       "      <td>-5925</td>\n",
       "    </tr>\n",
       "    <tr>\n",
       "      <th>3</th>\n",
       "      <td>-4835</td>\n",
       "      <td>14278</td>\n",
       "      <td>-5923</td>\n",
       "    </tr>\n",
       "    <tr>\n",
       "      <th>4</th>\n",
       "      <td>-4832</td>\n",
       "      <td>14244</td>\n",
       "      <td>-5902</td>\n",
       "    </tr>\n",
       "    <tr>\n",
       "      <th>...</th>\n",
       "      <td>...</td>\n",
       "      <td>...</td>\n",
       "      <td>...</td>\n",
       "    </tr>\n",
       "    <tr>\n",
       "      <th>289642</th>\n",
       "      <td>13650</td>\n",
       "      <td>-3695</td>\n",
       "      <td>8304</td>\n",
       "    </tr>\n",
       "    <tr>\n",
       "      <th>289643</th>\n",
       "      <td>13665</td>\n",
       "      <td>-3686</td>\n",
       "      <td>8295</td>\n",
       "    </tr>\n",
       "    <tr>\n",
       "      <th>289644</th>\n",
       "      <td>13660</td>\n",
       "      <td>-3675</td>\n",
       "      <td>8307</td>\n",
       "    </tr>\n",
       "    <tr>\n",
       "      <th>289645</th>\n",
       "      <td>13650</td>\n",
       "      <td>-3699</td>\n",
       "      <td>8296</td>\n",
       "    </tr>\n",
       "    <tr>\n",
       "      <th>289646</th>\n",
       "      <td>13664</td>\n",
       "      <td>-3687</td>\n",
       "      <td>8299</td>\n",
       "    </tr>\n",
       "  </tbody>\n",
       "</table>\n",
       "<p>289647 rows × 3 columns</p>\n",
       "</div>"
      ],
      "text/plain": [
       "           ax     ay    az\n",
       "0       -4833  14299 -5882\n",
       "1       -4834  14318 -5901\n",
       "2       -4827  14301 -5925\n",
       "3       -4835  14278 -5923\n",
       "4       -4832  14244 -5902\n",
       "...       ...    ...   ...\n",
       "289642  13650  -3695  8304\n",
       "289643  13665  -3686  8295\n",
       "289644  13660  -3675  8307\n",
       "289645  13650  -3699  8296\n",
       "289646  13664  -3687  8299\n",
       "\n",
       "[289647 rows x 3 columns]"
      ]
     },
     "execution_count": 12,
     "metadata": {},
     "output_type": "execute_result"
    }
   ],
   "source": [
    "df = pd.read_csv(f\"dataset/P02/EARBUDS/P02-imu-right.csv\", low_memory = False)\n",
    "df = df[[\"ax\",\"ay\",\"az\"]]\n",
    "df"
   ]
  },
  {
   "cell_type": "code",
   "execution_count": 13,
   "id": "62f0f87d-3c7c-4875-a7cd-bf91fbe90129",
   "metadata": {
    "tags": []
   },
   "outputs": [],
   "source": [
    "X2 = abs(df['ax'].values[9647:]) + abs(df['ay'].values[9647:])\n",
    "X2 = X2.reshape(560,500)\n",
    "\n",
    "new_X = np.array([])\n",
    "\n",
    "for x in X2:\n",
    "    new_X = np.append(new_X, [np.std(x)**0.25])\n",
    "\n",
    "\n",
    "X2 = new_X.reshape(560,1)"
   ]
  },
  {
   "cell_type": "code",
   "execution_count": 14,
   "id": "d8a8d192-957e-42ff-8a1b-4d6d269aa1dc",
   "metadata": {
    "tags": []
   },
   "outputs": [
    {
     "data": {
      "text/plain": [
       "array([2, 2, 2, 2, 2, 2, 2, 2, 2, 2, 2, 2, 2, 2, 2, 2, 2, 2, 2, 2, 2, 2,\n",
       "       0, 2, 0, 2, 2, 2, 0, 2, 2, 2, 2, 0, 2, 0, 2, 2, 2, 2, 2, 0, 2, 2,\n",
       "       2, 2, 0, 0, 2, 2, 2, 2, 2, 2, 0, 2, 2, 2, 2, 2, 2, 2, 2, 2, 2, 2,\n",
       "       2, 2, 0, 0, 2, 2, 2, 2, 2, 2, 2, 2, 2, 2, 2, 2, 2, 2, 2, 0, 0, 0,\n",
       "       2, 2, 2, 0, 2, 0, 0, 0, 2, 2, 2, 0, 0, 2, 0, 0, 0, 2, 2, 2, 2, 0,\n",
       "       0, 0, 2, 0, 0, 2, 2, 0, 0, 0, 0, 2, 0, 2, 0, 0, 2, 2, 2, 2, 2, 0,\n",
       "       0, 0, 2, 0, 0, 2, 0, 0, 0, 0, 0, 0, 0, 0, 0, 0, 0, 0, 0, 0, 2, 2,\n",
       "       0, 0, 2, 2, 0, 0, 0, 0, 0, 0, 0, 0, 0, 0, 0, 0, 0, 2, 2, 2, 2, 0,\n",
       "       0, 0, 0, 2, 2, 2, 2, 2, 2, 2, 0, 0, 0, 0, 2, 2, 0, 0, 0, 2, 0, 2,\n",
       "       2, 2, 0, 2, 2, 2, 2, 2, 2, 0, 2, 2, 0, 0, 0, 0, 2, 2, 0, 0, 0, 0,\n",
       "       0, 0, 2, 0, 0, 0, 0, 2, 2, 0, 0, 0, 0, 2, 0, 0, 0, 0, 0, 0, 0, 0,\n",
       "       0, 0, 0, 0, 0, 0, 0, 0, 0, 0, 0, 0, 0, 0, 0, 0, 0, 0, 0, 0, 0, 0,\n",
       "       0, 0, 0, 0, 0, 0, 0, 0, 0, 0, 0, 0, 0, 0, 0, 0, 0, 0, 0, 0, 0, 0,\n",
       "       0, 0, 0, 0, 0, 0, 0, 0, 0, 0, 0, 0, 0, 0, 0, 0, 0, 0, 0, 0, 0, 0,\n",
       "       0, 0, 0, 0, 0, 0, 0, 0, 0, 0, 0, 0, 0, 0, 0, 0, 0, 0, 0, 0, 0, 0,\n",
       "       0, 0, 0, 0, 0, 0, 0, 0, 0, 0, 0, 0, 0, 0, 0, 0, 0, 0, 0, 0, 0, 0,\n",
       "       0, 0, 0, 0, 0, 0, 0, 0, 0, 0, 0, 0, 0, 0, 0, 0, 0, 0, 0, 0, 0, 0,\n",
       "       0, 0, 0, 0, 0, 0, 0, 0, 0, 0, 1, 1, 1, 1, 1, 1, 1, 1, 1, 1, 1, 1,\n",
       "       1, 1, 1, 1, 1, 1, 1, 1, 1, 1, 1, 1, 1, 1, 1, 1, 1, 1, 1, 1, 1, 1,\n",
       "       1, 1, 1, 1, 1, 1, 1, 1, 1, 1, 1, 1, 1, 1, 1, 1, 1, 1, 1, 1, 1, 1,\n",
       "       1, 1, 1, 1, 1, 1, 1, 1, 1, 1, 1, 1, 1, 1, 1, 1, 1, 1, 1, 1, 1, 1,\n",
       "       1, 1, 1, 1, 1, 1, 1, 1, 1, 1, 1, 1, 1, 1, 1, 1, 1, 1, 1, 1, 1, 1,\n",
       "       1, 1, 1, 1, 1, 1, 1, 1, 1, 1, 1, 1, 1, 1, 1, 1, 1, 1, 1, 1, 1, 1,\n",
       "       1, 1, 1, 0, 1, 0, 1, 0, 2, 0, 2, 2, 2, 2, 2, 2, 2, 2, 2, 2, 2, 2,\n",
       "       2, 2, 2, 2, 2, 0, 0, 2, 2, 2, 2, 2, 2, 2, 2, 2, 2, 0, 2, 2, 0, 2,\n",
       "       2, 2, 2, 2, 2, 2, 2, 2, 2, 2])"
      ]
     },
     "execution_count": 14,
     "metadata": {},
     "output_type": "execute_result"
    }
   ],
   "source": [
    "clustering = AgglomerativeClustering(n_clusters = 3 ).fit(X2)\n",
    "clustering.labels_"
   ]
  },
  {
   "cell_type": "code",
   "execution_count": 15,
   "id": "21b9a236-427e-4f87-8606-d2b72f0eb712",
   "metadata": {
    "tags": []
   },
   "outputs": [
    {
     "data": {
      "text/plain": [
       "array([0, 0, 0, 0, 0, 0, 0, 0, 0, 0, 0, 0, 0, 0, 0, 0, 0, 0, 0, 0, 0, 0,\n",
       "       2, 0, 2, 0, 0, 0, 0, 0, 0, 0, 0, 2, 0, 0, 0, 0, 0, 0, 0, 0, 0, 0,\n",
       "       0, 0, 0, 0, 0, 0, 0, 0, 0, 0, 2, 0, 0, 0, 0, 0, 0, 0, 0, 0, 0, 0,\n",
       "       0, 0, 2, 2, 0, 0, 0, 0, 0, 0, 0, 0, 0, 0, 0, 0, 0, 0, 0, 2, 2, 0,\n",
       "       0, 0, 0, 0, 0, 0, 2, 2, 0, 0, 0, 2, 2, 0, 2, 0, 2, 0, 0, 0, 0, 2,\n",
       "       0, 2, 0, 0, 0, 0, 0, 2, 2, 2, 2, 0, 0, 0, 2, 0, 0, 0, 0, 0, 0, 0,\n",
       "       2, 0, 0, 2, 2, 0, 2, 0, 0, 2, 2, 2, 2, 0, 2, 2, 2, 2, 2, 2, 0, 0,\n",
       "       2, 2, 0, 0, 0, 0, 2, 0, 2, 2, 2, 2, 2, 0, 2, 0, 2, 0, 0, 0, 0, 2,\n",
       "       2, 2, 2, 0, 0, 0, 0, 0, 0, 0, 2, 0, 0, 0, 0, 0, 2, 2, 0, 0, 2, 0,\n",
       "       0, 0, 2, 0, 0, 0, 0, 0, 0, 2, 0, 0, 0, 2, 2, 2, 0, 0, 0, 2, 2, 2,\n",
       "       2, 2, 0, 2, 2, 0, 2, 0, 0, 2, 0, 2, 0, 0, 2, 2, 2, 0, 2, 2, 2, 2,\n",
       "       2, 2, 2, 2, 2, 2, 2, 2, 2, 2, 2, 2, 2, 2, 2, 2, 2, 2, 2, 2, 2, 2,\n",
       "       2, 2, 2, 2, 2, 2, 2, 2, 2, 2, 2, 2, 2, 2, 2, 2, 2, 2, 2, 2, 2, 2,\n",
       "       2, 2, 2, 2, 2, 2, 2, 2, 2, 2, 2, 2, 2, 2, 2, 2, 2, 2, 2, 2, 2, 2,\n",
       "       2, 2, 2, 2, 2, 2, 2, 2, 2, 2, 2, 2, 2, 2, 2, 2, 2, 2, 2, 2, 2, 2,\n",
       "       2, 2, 2, 2, 2, 2, 2, 2, 2, 2, 2, 2, 2, 2, 2, 2, 2, 2, 2, 2, 2, 2,\n",
       "       2, 2, 2, 2, 2, 2, 2, 2, 2, 2, 2, 2, 2, 2, 2, 2, 2, 2, 2, 2, 2, 2,\n",
       "       2, 2, 2, 2, 2, 2, 2, 2, 2, 2, 2, 2, 2, 1, 1, 1, 1, 1, 1, 1, 1, 1,\n",
       "       1, 1, 1, 1, 1, 1, 1, 1, 1, 1, 1, 1, 1, 1, 1, 1, 1, 1, 1, 1, 1, 1,\n",
       "       1, 1, 1, 1, 1, 1, 1, 1, 1, 1, 1, 1, 1, 1, 1, 1, 1, 1, 1, 1, 1, 1,\n",
       "       1, 1, 1, 1, 1, 1, 1, 1, 1, 1, 1, 1, 1, 1, 1, 1, 1, 1, 1, 1, 1, 1,\n",
       "       1, 1, 1, 1, 1, 1, 1, 1, 1, 1, 1, 1, 1, 1, 1, 1, 1, 1, 1, 1, 1, 1,\n",
       "       1, 1, 1, 1, 1, 1, 1, 1, 1, 1, 1, 1, 1, 1, 1, 1, 1, 1, 1, 1, 1, 1,\n",
       "       1, 1, 1, 2, 2, 2, 2, 2, 0, 2, 0, 0, 0, 0, 0, 0, 0, 0, 0, 0, 0, 0,\n",
       "       0, 0, 0, 0, 0, 2, 0, 0, 0, 0, 0, 0, 0, 0, 0, 0, 0, 0, 0, 0, 0, 0,\n",
       "       0, 0, 0, 0, 0, 0, 0, 0, 0, 0])"
      ]
     },
     "execution_count": 15,
     "metadata": {},
     "output_type": "execute_result"
    }
   ],
   "source": [
    "gmm = GaussianMixture(n_components=3, random_state=2).fit(X2)\n",
    "cluster_labels = gmm.predict(X2)\n",
    "cluster_labels"
   ]
  },
  {
   "cell_type": "code",
   "execution_count": 16,
   "id": "491df1ff-14ed-485b-a925-ceb890ea0d80",
   "metadata": {
    "tags": []
   },
   "outputs": [],
   "source": [
    "X2 = abs(df['ax'].values[9647:]) + abs(df['ay'].values[9647:]) + abs(df['az'].values[9647:])\n",
    "l = []\n",
    "for i in range(560):\n",
    "    for j in range(500):\n",
    "        l.append(clustering.labels_.tolist()[i])\n",
    "\n",
    "X2 = np.column_stack((X2, np.array(l).reshape(-1,1)))\n",
    "labels = pd.DataFrame(X2)\n",
    "\n",
    "labels.to_csv(\"labels3.csv\")"
   ]
  },
  {
   "cell_type": "code",
   "execution_count": 17,
   "id": "2103ee5b-d8d7-480b-a6b6-02fb022413c0",
   "metadata": {
    "tags": []
   },
   "outputs": [
    {
     "data": {
      "text/plain": [
       "array([2, 2, 2, 2, 2, 2, 2, 2, 2, 2, 2, 2, 2, 2, 2, 2, 2, 2, 2, 2, 2, 2,\n",
       "       2, 2, 2, 2, 2, 2, 2, 2, 2, 2, 2, 2, 2, 2, 2, 2, 2, 2, 2, 2, 2, 2,\n",
       "       0, 2, 2, 2, 2, 2, 2, 2, 2, 2, 2, 0, 0, 0, 2, 2, 2, 0, 2, 2, 2, 2,\n",
       "       2, 2, 2, 0, 2, 2, 2, 2, 2, 2, 2, 2, 2, 2, 2, 2, 2, 2, 2, 2, 2, 2,\n",
       "       2, 2, 2, 2, 2, 2, 2, 2, 2, 2, 2, 0, 2, 2, 2, 2, 2, 2, 2, 0, 2, 2,\n",
       "       2, 2, 2, 2, 2, 2, 2, 2, 0, 0, 0, 0, 0, 0, 0, 0, 0, 0, 0, 0, 0, 0,\n",
       "       0, 0, 0, 0, 0, 0, 0, 0, 0, 0, 0, 0, 0, 0, 0, 0, 0, 0, 0, 0, 0, 0,\n",
       "       0, 0, 0, 0, 0, 0, 0, 0, 0, 0, 0, 0, 0, 0, 0, 0, 0, 0, 0, 0, 0, 0,\n",
       "       0, 0, 0, 0, 0, 0, 0, 0, 0, 0, 0, 0, 0, 0, 0, 0, 0, 0, 0, 0, 0, 0,\n",
       "       0, 0, 0, 0, 0, 0, 0, 0, 0, 0, 0, 0, 0, 0, 0, 0, 0, 0, 0, 0, 0, 0,\n",
       "       0, 0, 0, 0, 0, 0, 0, 0, 0, 0, 0, 0, 0, 0, 0, 0, 0, 0, 0, 0, 0, 0,\n",
       "       0, 0, 0, 0, 0, 0, 0, 0, 2, 2, 0, 0, 0, 0, 0, 0, 0, 0, 1, 1, 1, 1,\n",
       "       1, 1, 1, 1, 1, 1, 1, 1, 1, 1, 1, 1, 1, 1, 1, 1, 1, 1, 1, 1, 1, 1,\n",
       "       1, 1, 1, 1, 1, 1, 1, 1, 1, 1, 1, 1, 1, 1, 1, 1, 1, 1, 1, 1, 1, 1,\n",
       "       1, 1, 1, 1, 1, 1, 1, 1, 1, 1, 0, 0, 0, 2, 0, 0, 0, 0, 0, 0, 0, 0,\n",
       "       1, 1, 1, 1, 1, 1, 1, 1, 1, 1, 1, 1, 1, 1, 1, 1, 1, 1, 1, 1, 1, 1,\n",
       "       1, 1, 1, 1, 1, 1, 1, 1, 1, 1, 1, 1, 1, 1, 1, 1, 1, 1, 1, 1, 1, 1,\n",
       "       1, 1, 1, 1, 1, 1, 1, 1, 1, 1, 1, 0, 0, 0, 0, 0])"
      ]
     },
     "execution_count": 17,
     "metadata": {},
     "output_type": "execute_result"
    }
   ],
   "source": [
    "gmm = GaussianMixture(n_components=3, random_state=2).fit(X)\n",
    "cluster_labels = gmm.predict(X)\n",
    "cluster_labels"
   ]
  },
  {
   "cell_type": "code",
   "execution_count": 18,
   "id": "5766d36e-f190-455f-b2ca-11eaa1cc1a6d",
   "metadata": {
    "tags": []
   },
   "outputs": [
    {
     "data": {
      "text/plain": [
       "array([0, 0, 0, 0, 0, 0, 0, 0, 0, 0, 0, 0, 0, 0, 0, 0, 0, 0, 0, 0, 0, 0,\n",
       "       0, 0, 0, 0, 0, 0, 0, 0, 0, 0, 0, 0, 0, 0, 0, 0, 0, 0, 0, 0, 0, 0,\n",
       "       0, 0, 0, 0, 0, 0, 0, 0, 0, 0, 0, 0, 0, 0, 0, 0, 0, 0, 0, 0, 0, 0,\n",
       "       0, 0, 0, 0, 0, 0, 0, 0, 0, 0, 0, 0, 0, 0, 0, 0, 0, 0, 0, 0, 0, 0,\n",
       "       0, 0, 0, 0, 0, 0, 0, 0, 0, 0, 0, 0, 0, 0, 0, 0, 0, 0, 0, 0, 0, 0,\n",
       "       0, 0, 0, 0, 0, 0, 0, 0, 0, 0, 0, 0, 0, 0, 0, 0, 0, 0, 0, 0, 0, 0,\n",
       "       0, 0, 0, 0, 0, 0, 0, 0, 0, 0, 0, 0, 0, 0, 0, 0, 0, 0, 0, 0, 0, 0,\n",
       "       0, 0, 0, 0, 0, 0, 0, 0, 0, 0, 0, 0, 0, 0, 0, 0, 0, 0, 0, 0, 0, 0,\n",
       "       0, 0, 0, 0, 0, 0, 0, 0, 0, 0, 0, 0, 0, 0, 0, 0, 0, 0, 0, 0, 0, 0,\n",
       "       0, 0, 0, 0, 0, 0, 0, 0, 0, 0, 0, 0, 0, 0, 0, 0, 0, 0, 0, 0, 0, 0,\n",
       "       0, 0, 0, 0, 0, 0, 0, 0, 0, 0, 0, 0, 0, 0, 0, 0, 0, 0, 0, 0, 0, 0,\n",
       "       0, 0, 0, 0, 0, 0, 0, 0, 0, 0, 0, 0, 0, 0, 0, 0, 0, 0, 0, 0, 0, 0,\n",
       "       0, 0, 0, 0, 0, 0, 0, 0, 0, 0, 0, 0, 0, 0, 0, 0, 0, 0, 0, 0, 0, 0,\n",
       "       0, 0, 0, 0, 0, 0, 0, 0, 0, 0, 0, 0, 0, 0, 0, 0, 0, 0, 0, 0, 0, 0,\n",
       "       0, 0, 0, 0, 0, 0, 0, 0, 0, 0, 0, 0, 0, 0, 0, 0, 0, 0, 0, 0, 0, 0,\n",
       "       0, 0, 0, 0, 0, 0, 0, 0, 0, 0, 0, 0, 0, 0, 0, 0, 0, 0, 0, 0, 0, 0,\n",
       "       0, 0, 0, 0, 0, 0, 0, 0, 0, 0, 0, 0, 0, 0, 0, 0, 0, 0, 0, 0, 0, 0,\n",
       "       0, 0, 0, 0, 0, 0, 0, 0, 0, 0, 0, 0, 0, 0, 0, 0])"
      ]
     },
     "execution_count": 18,
     "metadata": {},
     "output_type": "execute_result"
    }
   ],
   "source": [
    "clustering = DBSCAN(eps=100, min_samples=2).fit(X)\n",
    "clustering.labels_"
   ]
  },
  {
   "cell_type": "code",
   "execution_count": 19,
   "id": "b2eba940-9da6-459a-8744-c868e548562a",
   "metadata": {
    "tags": []
   },
   "outputs": [
    {
     "data": {
      "text/plain": [
       "array([2, 2, 2, 2, 2, 2, 2, 2, 2, 2, 2, 2, 2, 2, 2, 2, 2, 2, 2, 2, 2, 2,\n",
       "       2, 2, 2, 2, 2, 2, 2, 2, 2, 2, 2, 2, 2, 2, 2, 2, 2, 2, 2, 2, 2, 2,\n",
       "       0, 2, 2, 2, 2, 2, 2, 2, 2, 2, 2, 0, 0, 2, 2, 2, 2, 2, 2, 2, 2, 2,\n",
       "       2, 2, 2, 0, 2, 2, 2, 2, 2, 2, 2, 2, 2, 2, 2, 2, 2, 2, 2, 2, 2, 2,\n",
       "       2, 2, 2, 2, 2, 2, 2, 2, 2, 2, 2, 2, 2, 2, 2, 2, 2, 2, 2, 2, 2, 2,\n",
       "       2, 2, 2, 2, 2, 2, 2, 2, 0, 0, 0, 0, 0, 0, 0, 0, 0, 0, 0, 0, 0, 0,\n",
       "       0, 0, 0, 0, 0, 0, 0, 0, 0, 0, 0, 0, 0, 0, 0, 0, 0, 0, 0, 0, 0, 0,\n",
       "       0, 0, 0, 0, 0, 0, 0, 0, 0, 0, 0, 0, 0, 0, 0, 0, 0, 0, 0, 0, 0, 0,\n",
       "       0, 0, 0, 0, 0, 0, 0, 0, 0, 0, 0, 0, 0, 0, 0, 0, 0, 0, 0, 0, 0, 0,\n",
       "       0, 0, 0, 0, 0, 0, 0, 0, 0, 0, 0, 0, 0, 0, 0, 0, 0, 0, 0, 0, 0, 0,\n",
       "       0, 0, 0, 0, 0, 0, 0, 0, 0, 0, 0, 0, 0, 0, 0, 0, 0, 0, 0, 0, 0, 0,\n",
       "       0, 0, 0, 0, 0, 0, 0, 2, 2, 2, 0, 0, 0, 0, 0, 0, 0, 0, 1, 1, 1, 1,\n",
       "       1, 1, 1, 1, 1, 1, 1, 1, 1, 1, 1, 1, 1, 1, 1, 1, 1, 1, 1, 1, 1, 1,\n",
       "       1, 1, 1, 1, 1, 1, 1, 1, 1, 1, 1, 1, 1, 1, 1, 1, 1, 1, 1, 1, 1, 1,\n",
       "       1, 1, 1, 1, 1, 1, 1, 1, 1, 1, 0, 0, 0, 2, 2, 0, 0, 0, 0, 0, 0, 0,\n",
       "       1, 1, 1, 1, 1, 1, 1, 1, 1, 1, 1, 1, 1, 1, 1, 1, 1, 1, 1, 1, 1, 1,\n",
       "       1, 1, 1, 1, 1, 1, 1, 1, 1, 1, 1, 1, 1, 1, 1, 1, 1, 1, 1, 1, 1, 1,\n",
       "       1, 1, 1, 1, 1, 1, 1, 1, 1, 1, 1, 0, 0, 0, 0, 0], dtype=int32)"
      ]
     },
     "execution_count": 19,
     "metadata": {},
     "output_type": "execute_result"
    }
   ],
   "source": [
    "kmeans = KMeans(n_clusters=3, random_state=0, n_init=\"auto\").fit(X)\n",
    "kmeans.labels_"
   ]
  },
  {
   "cell_type": "code",
   "execution_count": 21,
   "id": "68dae3be-8410-4b88-ae72-75cf4bf7b2a2",
   "metadata": {
    "tags": []
   },
   "outputs": [
    {
     "data": {
      "text/plain": [
       "array([2, 2, 2, 2, 2, 2, 2, 2, 2, 2, 2, 2, 2, 2, 2, 2, 2, 2, 2, 2, 2, 2,\n",
       "       0, 2, 2, 2, 2, 2, 2, 2, 2, 2, 2, 2, 2, 2, 2, 2, 2, 2, 2, 2, 2, 2,\n",
       "       0, 0, 2, 2, 0, 2, 2, 2, 2, 2, 2, 0, 0, 0, 2, 2, 2, 0, 2, 2, 2, 0,\n",
       "       2, 2, 2, 0, 2, 2, 2, 2, 2, 2, 2, 2, 2, 2, 0, 2, 2, 2, 2, 2, 2, 2,\n",
       "       2, 2, 2, 0, 0, 2, 2, 0, 2, 2, 2, 0, 2, 2, 0, 2, 2, 2, 2, 0, 2, 2,\n",
       "       2, 2, 2, 0, 2, 2, 2, 2, 0, 0, 0, 0, 0, 0, 0, 0, 0, 0, 0, 0, 0, 0,\n",
       "       0, 0, 0, 0, 0, 0, 0, 0, 0, 0, 0, 0, 0, 0, 0, 0, 0, 0, 0, 0, 0, 0,\n",
       "       0, 0, 0, 0, 0, 0, 0, 0, 0, 0, 0, 0, 0, 0, 0, 0, 0, 0, 0, 0, 0, 0,\n",
       "       0, 0, 0, 0, 0, 0, 0, 0, 0, 0, 0, 0, 0, 0, 0, 0, 0, 0, 0, 0, 0, 0,\n",
       "       0, 0, 0, 0, 0, 0, 0, 0, 0, 0, 0, 0, 0, 0, 0, 0, 0, 0, 0, 0, 0, 0,\n",
       "       0, 0, 0, 0, 0, 0, 0, 0, 0, 0, 0, 0, 0, 0, 0, 0, 0, 0, 0, 0, 0, 0,\n",
       "       0, 0, 0, 0, 0, 0, 0, 0, 2, 2, 0, 1, 0, 0, 0, 0, 1, 1, 1, 1, 1, 1,\n",
       "       1, 1, 1, 1, 1, 1, 1, 1, 1, 1, 1, 1, 1, 1, 1, 1, 1, 1, 1, 1, 1, 1,\n",
       "       1, 1, 1, 1, 1, 1, 1, 1, 1, 1, 1, 1, 1, 1, 1, 1, 1, 1, 1, 1, 1, 1,\n",
       "       1, 1, 1, 1, 1, 1, 1, 1, 1, 1, 0, 1, 1, 0, 0, 0, 0, 1, 0, 0, 0, 1,\n",
       "       1, 1, 1, 1, 1, 1, 1, 1, 1, 1, 1, 1, 1, 1, 1, 1, 1, 1, 1, 1, 1, 1,\n",
       "       1, 1, 1, 1, 1, 1, 1, 1, 1, 1, 1, 1, 1, 1, 1, 1, 1, 1, 1, 1, 1, 1,\n",
       "       1, 1, 1, 1, 1, 1, 1, 1, 1, 1, 1, 1, 0, 0, 1, 0])"
      ]
     },
     "execution_count": 21,
     "metadata": {},
     "output_type": "execute_result"
    }
   ],
   "source": [
    "clustering = AgglomerativeClustering(n_clusters = 3 ).fit(X)\n",
    "clustering.labels_"
   ]
  },
  {
   "cell_type": "code",
   "execution_count": 23,
   "id": "7ba394bb-777e-46c7-b44d-feebc58da3d1",
   "metadata": {
    "tags": []
   },
   "outputs": [
    {
     "data": {
      "text/plain": [
       "array([2, 2, 2, 2, 2, 2, 2, 2, 2, 2, 2, 2, 2, 2, 2, 2, 2, 2, 2, 2, 2, 2,\n",
       "       2, 2, 2, 2, 2, 2, 2, 2, 2, 2, 2, 2, 2, 2, 2, 2, 2, 2, 2, 2, 2, 2,\n",
       "       0, 2, 2, 2, 2, 2, 2, 2, 2, 2, 2, 0, 0, 0, 2, 2, 2, 0, 2, 2, 2, 2,\n",
       "       2, 2, 2, 0, 2, 2, 2, 2, 2, 2, 2, 2, 2, 2, 2, 2, 2, 2, 2, 2, 2, 2,\n",
       "       2, 2, 2, 2, 2, 2, 2, 2, 2, 2, 2, 0, 2, 2, 2, 2, 2, 2, 2, 0, 2, 2,\n",
       "       2, 2, 2, 2, 2, 2, 2, 2, 0, 0, 0, 0, 0, 0, 0, 0, 0, 0, 0, 0, 0, 0,\n",
       "       0, 0, 0, 0, 0, 0, 0, 0, 0, 0, 0, 0, 0, 0, 0, 0, 0, 0, 0, 0, 0, 0,\n",
       "       0, 0, 0, 0, 0, 0, 0, 0, 0, 0, 0, 0, 0, 0, 0, 0, 0, 0, 0, 0, 0, 0,\n",
       "       0, 0, 0, 0, 0, 0, 0, 0, 0, 0, 0, 0, 0, 0, 0, 0, 0, 0, 0, 0, 0, 0,\n",
       "       0, 0, 0, 0, 0, 0, 0, 0, 0, 0, 0, 0, 0, 0, 0, 0, 0, 0, 0, 0, 0, 0,\n",
       "       0, 0, 0, 0, 0, 0, 0, 0, 0, 0, 0, 0, 0, 0, 0, 0, 0, 0, 0, 0, 0, 0,\n",
       "       0, 0, 0, 0, 0, 0, 0, 0, 2, 2, 0, 0, 0, 0, 0, 0, 0, 0, 1, 1, 1, 1,\n",
       "       1, 1, 1, 1, 1, 1, 1, 1, 1, 1, 1, 1, 1, 1, 1, 1, 1, 1, 1, 1, 1, 1,\n",
       "       1, 1, 1, 1, 1, 1, 1, 1, 1, 1, 1, 1, 1, 1, 1, 1, 1, 1, 1, 1, 1, 1,\n",
       "       1, 1, 1, 1, 1, 1, 1, 1, 1, 1, 0, 0, 0, 2, 0, 0, 0, 0, 0, 0, 0, 0,\n",
       "       1, 1, 1, 1, 1, 1, 1, 1, 1, 1, 1, 1, 1, 1, 1, 1, 1, 1, 1, 1, 1, 1,\n",
       "       1, 1, 1, 1, 1, 1, 1, 1, 1, 1, 1, 1, 1, 1, 1, 1, 1, 1, 1, 1, 1, 1,\n",
       "       1, 1, 1, 1, 1, 1, 1, 1, 1, 1, 1, 0, 0, 0, 0, 0])"
      ]
     },
     "execution_count": 23,
     "metadata": {},
     "output_type": "execute_result"
    }
   ],
   "source": [
    "gmm = GaussianMixture(n_components=3, random_state=2).fit(X)\n",
    "cluster_labels = gmm.predict(X)\n",
    "cluster_labels"
   ]
  },
  {
   "cell_type": "code",
   "execution_count": 24,
   "id": "51937af4-892b-461b-bd49-fc8a62e248b8",
   "metadata": {
    "tags": []
   },
   "outputs": [
    {
     "data": {
      "text/plain": [
       "array([0, 0, 0, 0, 0, 0, 0, 0, 0, 0, 0, 0, 0, 0, 0, 0, 0, 0, 0, 0, 0, 0,\n",
       "       0, 0, 0, 0, 0, 0, 0, 0, 0, 0, 0, 0, 0, 0, 0, 0, 0, 0, 0, 0, 0, 0,\n",
       "       0, 0, 0, 0, 0, 0, 0, 0, 0, 0, 0, 0, 0, 0, 0, 0, 0, 0, 0, 0, 0, 0,\n",
       "       0, 0, 0, 0, 0, 0, 0, 0, 0, 0, 0, 0, 0, 0, 0, 0, 0, 0, 0, 0, 0, 0,\n",
       "       0, 0, 0, 0, 0, 0, 0, 0, 0, 0, 0, 0, 0, 0, 0, 0, 0, 0, 0, 0, 0, 0,\n",
       "       0, 0, 0, 0, 0, 0, 0, 0, 0, 0, 0, 0, 0, 0, 0, 0, 0, 0, 0, 0, 0, 0,\n",
       "       0, 0, 0, 0, 0, 0, 0, 0, 0, 0, 0, 0, 0, 0, 0, 0, 0, 0, 0, 0, 0, 0,\n",
       "       0, 0, 0, 0, 0, 0, 0, 0, 0, 0, 0, 0, 0, 0, 0, 0, 0, 0, 0, 0, 0, 0,\n",
       "       0, 0, 0, 0, 0, 0, 0, 0, 0, 0, 0, 0, 0, 0, 0, 0, 0, 0, 0, 0, 0, 0,\n",
       "       0, 0, 0, 0, 0, 0, 0, 0, 0, 0, 0, 0, 0, 0, 0, 0, 0, 0, 0, 0, 0, 0,\n",
       "       0, 0, 0, 0, 0, 0, 0, 0, 0, 0, 0, 0, 0, 0, 0, 0, 0, 0, 0, 0, 0, 0,\n",
       "       0, 0, 0, 0, 0, 0, 0, 0, 0, 0, 0, 0, 0, 0, 0, 0, 0, 0, 0, 1, 1, 1,\n",
       "       1, 1, 1, 1, 1, 1, 1, 1, 1, 1, 1, 1, 1, 1, 1, 1, 1, 1, 1, 1, 1, 1,\n",
       "       1, 1, 1, 1, 1, 1, 1, 1, 1, 1, 1, 1, 1, 1, 1, 1, 1, 1, 1, 1, 1, 1,\n",
       "       1, 1, 1, 1, 1, 1, 1, 1, 1, 1, 0, 0, 0, 0, 0, 0, 0, 0, 0, 0, 0, 0,\n",
       "       1, 1, 1, 1, 1, 1, 1, 1, 1, 1, 1, 1, 1, 1, 1, 1, 1, 1, 1, 1, 1, 1,\n",
       "       1, 1, 1, 1, 1, 1, 1, 1, 1, 1, 1, 1, 1, 1, 1, 1, 1, 1, 1, 1, 1, 1,\n",
       "       1, 1, 1, 1, 1, 1, 1, 1, 1, 1, 1, 0, 0, 0, 0, 0])"
      ]
     },
     "execution_count": 24,
     "metadata": {},
     "output_type": "execute_result"
    }
   ],
   "source": [
    "clustering = MeanShift(bandwidth=2).fit(X)\n",
    "clustering.labels_"
   ]
  },
  {
   "cell_type": "code",
   "execution_count": 25,
   "id": "b1e4afbb-087e-4f5e-a56f-bf8553ac4ef3",
   "metadata": {
    "tags": []
   },
   "outputs": [
    {
     "data": {
      "text/plain": [
       "array([2, 2, 2, 2, 2, 2, 2, 2, 2, 2, 2, 2, 2, 2, 2, 2, 2, 2, 2, 2, 2, 2,\n",
       "       2, 2, 2, 2, 2, 2, 2, 2, 2, 2, 2, 2, 2, 2, 2, 2, 2, 2, 2, 2, 2, 2,\n",
       "       1, 2, 2, 2, 1, 2, 2, 2, 2, 2, 2, 0, 1, 1, 2, 2, 2, 1, 2, 2, 2, 1,\n",
       "       2, 2, 2, 1, 2, 2, 2, 2, 2, 2, 2, 2, 2, 2, 1, 2, 2, 2, 2, 2, 2, 2,\n",
       "       2, 2, 2, 1, 1, 2, 2, 2, 2, 2, 2, 1, 2, 2, 2, 2, 2, 2, 2, 1, 2, 2,\n",
       "       2, 2, 2, 2, 2, 2, 2, 2, 0, 1, 1, 1, 1, 1, 1, 1, 1, 1, 1, 1, 1, 1,\n",
       "       1, 1, 1, 1, 1, 1, 1, 1, 1, 1, 1, 1, 1, 1, 1, 1, 1, 1, 1, 1, 1, 1,\n",
       "       1, 1, 1, 1, 1, 1, 1, 1, 1, 1, 1, 1, 1, 1, 1, 1, 1, 1, 1, 1, 0, 1,\n",
       "       1, 1, 1, 1, 1, 1, 1, 1, 1, 1, 1, 1, 1, 1, 1, 1, 1, 1, 1, 1, 1, 1,\n",
       "       1, 1, 1, 1, 1, 1, 1, 1, 1, 1, 1, 1, 1, 1, 1, 1, 1, 1, 1, 1, 0, 0,\n",
       "       1, 1, 1, 1, 1, 1, 1, 1, 1, 1, 1, 1, 1, 1, 1, 1, 1, 1, 1, 1, 1, 1,\n",
       "       1, 1, 1, 1, 1, 1, 1, 1, 2, 2, 1, 0, 1, 1, 1, 1, 0, 0, 0, 0, 0, 0,\n",
       "       0, 0, 0, 0, 0, 0, 0, 0, 0, 0, 0, 0, 0, 0, 0, 0, 0, 0, 0, 0, 0, 0,\n",
       "       0, 0, 0, 0, 0, 0, 0, 0, 0, 0, 0, 0, 0, 0, 0, 0, 0, 0, 0, 0, 0, 0,\n",
       "       0, 0, 0, 0, 0, 0, 0, 0, 0, 0, 1, 0, 0, 2, 1, 1, 1, 0, 1, 1, 1, 0,\n",
       "       0, 0, 0, 0, 0, 0, 0, 0, 0, 0, 0, 0, 0, 0, 0, 0, 0, 0, 0, 0, 0, 0,\n",
       "       0, 0, 0, 0, 0, 0, 0, 0, 0, 0, 0, 0, 0, 0, 0, 0, 0, 0, 0, 0, 0, 0,\n",
       "       0, 0, 0, 0, 0, 0, 0, 0, 0, 0, 0, 0, 1, 1, 0, 1], dtype=int32)"
      ]
     },
     "execution_count": 25,
     "metadata": {},
     "output_type": "execute_result"
    }
   ],
   "source": [
    "kmeans = MiniBatchKMeans(n_clusters=3,\n",
    "                         batch_size = 2,\n",
    "                          n_init=\"auto\").fit(X)\n",
    "\n",
    "\n",
    "kmeans.labels_"
   ]
  }
 ],
 "metadata": {
  "kernelspec": {
   "display_name": "Python 3 (ipykernel)",
   "language": "python",
   "name": "python3"
  },
  "language_info": {
   "codemirror_mode": {
    "name": "ipython",
    "version": 3
   },
   "file_extension": ".py",
   "mimetype": "text/x-python",
   "name": "python",
   "nbconvert_exporter": "python",
   "pygments_lexer": "ipython3",
   "version": "3.11.3"
  }
 },
 "nbformat": 4,
 "nbformat_minor": 5
}
